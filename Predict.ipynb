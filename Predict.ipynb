{
 "cells": [
  {
   "cell_type": "markdown",
   "metadata": {},
   "source": [
    "# 尝试使用K-Means聚类和HMM模型来解决蜘蛛网问题"
   ]
  },
  {
   "cell_type": "markdown",
   "metadata": {},
   "source": [
    "## 结合价格序列数据和龙虎榜数据\n",
    "\n",
    "因为要同时观察的量比较多，所以直接从各个维度划分类别变得比较不可行，这里使用k-means先进性聚类，将市场状态进行划分。k-means需要指定类别的参数，这也整个模型非常重要的一个参数。\n",
    "\n",
    "这个版本同时使用龙虎榜信息和价格序列。龙虎榜是蜘蛛网策略的初衷，同时由于决定采用隐马尔可夫模型，而这个模型的精髓在于处理时序数据，所以这里加入价格序列信息的使用。方法是取每天固定几个点的价格，使用k-means聚类，力图发现日内价格的某种模式，然后，也是和以前一样，使用离散观察值的HMM算法。\n",
    "\n",
    "然后我们尝试使用hmmlearn来进行一次隐马尔可夫模型的尝试。具体做法是，输入之前聚类后的观察值的序列，然后使用传统的维特比算法计算最大可能性的隐状态链。然后将隐状态和当天的收益率联系起来，具体做法是，分别对每一种状态的当日收益率进行累乘，计算复利，相当于满仓做多。然后将不同隐状态满仓做多的表现呈现在一个图上。\n",
    "\n",
    "这样我们得到了每一个隐状态的表现，并且我们知道哪一个隐状态适合做多，哪一个适合做空，然后我们预测下一个隐状态，并采取相应的操作。\n",
    "\n",
    "同时也应该看到，使用增幅数据比使用比重更有效。因为变化幅度更能描述市场的动态。"
   ]
  },
  {
   "cell_type": "markdown",
   "metadata": {},
   "source": [
    "## 文件头和引用"
   ]
  },
  {
   "cell_type": "code",
   "execution_count": 13,
   "metadata": {},
   "outputs": [],
   "source": [
    "# -*- coding: utf-8 -*-\n",
    "\n",
    "import pandas as pd\n",
    "import numpy as np\n",
    "from sklearn import cluster\n",
    "from hmmlearn import hmm\n",
    "import matplotlib.pyplot as plt\n",
    "import matplotlib.gridspec as gridspec\n",
    "import copy\n",
    "from sklearn import preprocessing\n",
    "import datetime"
   ]
  },
  {
   "cell_type": "markdown",
   "metadata": {},
   "source": [
    "## 设定参数并启动\n",
    "\n",
    "> * `FutureList`需要实验的品种列表，总共有'ag', 'au', 'cu', 'i', 'IF','j', 'jm', 'm', 'rb', 'ru'可以选择，其中i和jm的数据是从2014年开始的，共1054条记录，其余的是从2013年开始的，共1292条记录。\n",
    "> * `PricePointNum`日内价格取多少个观测点（不包括开盘价和收盘价）至少为1\n",
    "> * `LabelNum`聚类的组数\n",
    "> * `HiddenStateNum`隐状态数量\n",
    "> * `Columns`用于聚类的特征，可取的特征有：交易日,合约,开盘价,收盘价,日涨幅,最高价,最低价,日振幅,合约成交量,合约持仓量,多头持仓,多头增仓,多头增幅,多头比重,空头持仓,空头增仓,空头增幅,空头比重,成交量现量,成交量变化,成交量增幅,成交量比重。\n",
    "> * `TestSize`测试集的长度。此处定义为长度而非比例主要是为了后续品种之间的性能对比，而且我们已经知道记录的总长度，通过测试集长度也可以确定其比例。\n",
    "> * `RankWeight`期货龙虎榜计算得来的交易信号的权重\n",
    "> * `PatternWeight`日内价格模式计算得来的交易信号的权重"
   ]
  },
  {
   "cell_type": "code",
   "execution_count": 14,
   "metadata": {},
   "outputs": [],
   "source": [
    "Columns = ['日涨幅','日振幅','多头增幅','空头增幅','成交量增幅']\n",
    "\n",
    "#FutureList = ['ag', 'au', 'cu', 'IF','j', 'm', 'rb', 'ru']\n",
    "FutureList = ['j', 'm', 'ru']\n",
    "#FutureList = ['m']\n",
    "\n",
    "ParDic = {\n",
    "    'j':[\n",
    "        [4, 25, 4, 0.4, 0.6], \n",
    "        [2, 25, 8, 0.6, 0.4], \n",
    "        [4, 25, 4, 0.6, 0.4], \n",
    "        [8, 30, 6, 0.4, 0.6]\n",
    "        ],\n",
    "    'm':[\n",
    "        [8,  10, 8, 0.6, 0.4], \n",
    "        [4,  20, 4, 0.4, 0.6], \n",
    "        [16, 10, 8, 0.4, 0.6], \n",
    "        [8,  25, 8, 0.6, 0.4]\n",
    "        ],\n",
    "    'ru':[\n",
    "         [8,  20, 4, 0.8, 0.2], \n",
    "         [16, 20, 6, 0.8, 0.2], \n",
    "         [4,  20, 4, 0.8, 0.2], \n",
    "         [2,  10, 8, 0.2, 0.8]\n",
    "         ]\n",
    "}"
   ]
  },
  {
   "cell_type": "markdown",
   "metadata": {},
   "source": [
    "## 载入龙虎榜和价格数据\n",
    "\n",
    "读入龙虎榜累加数据和价格并返回二维数组格式。为了保证状态链不断开，这里直接在时间顺序上分为训练集和测试集。龙虎榜数据用于聚类和预测，价格数据用于计算收益率。\n",
    "\n",
    "> 参数\n",
    "> * `filename`文件名\n",
    "> * `columns`需要取的列\n",
    "> * `testsize`测试集大小\n",
    "\n",
    "> 返回\n",
    "> * `data[:trainlen]`特征数据训练集\n",
    "> * `price[:trainlen]`价格日涨幅训练集\n",
    "> * `data[trainlen:]`特征数据测试集\n",
    "> * `price[trainlen:]`价格日涨幅测试集"
   ]
  },
  {
   "cell_type": "code",
   "execution_count": 15,
   "metadata": {},
   "outputs": [],
   "source": [
    "def load_rank_price_data(future, columns):\n",
    "    table = pd.read_csv(future + '_rank_sum.csv')\n",
    "    data = table[columns].values\n",
    "    price = table['日涨幅'].values\n",
    "    return data, price"
   ]
  },
  {
   "cell_type": "markdown",
   "metadata": {},
   "source": [
    "## 载入日内价格走势数据\n",
    "\n",
    "读入min_price和min_volume两个文件，分别是日内分钟收盘价和日内分钟交易量。在日内选取n个观测点，则将日内数据均分为n份，计算n个加权平均价，然后将昨收价，开盘价，n个观测价，收盘价排成一个序列，依次计算第i+1个价格相对于第i个价格的涨幅，最终形成的tuple的长度是n+2。\n",
    "\n",
    "> 参数\n",
    "> * `future`期货品种\n",
    "> * `pricepointnum`价格观测点的数量（不包含开盘价和收盘价），至少为1\n",
    "> * `testsize`测试集长度\n",
    "\n",
    "> 返回\n",
    "> * `pattern[:-testsize]`价格走势训练集\n",
    "> * `pattern[-testsize:]`价格走势测试集"
   ]
  },
  {
   "cell_type": "code",
   "execution_count": 16,
   "metadata": {},
   "outputs": [],
   "source": [
    "def load_price_pattern_data(future, pricepointnum):\n",
    "    pricedata = pd.read_csv(future + '_min_price.csv')\n",
    "    volumedata = pd.read_csv(future + '_min_volume.csv')\n",
    "    table = pd.read_csv(future + '_rank_sum.csv')\n",
    "    if len(table.index) != len(pricedata.columns) or len(table.index) != len(volumedata.columns):\n",
    "        print(future + ' Bad Data Length!')\n",
    "    \n",
    "    length = len(pricedata.columns)\n",
    "    pattern = np.zeros((length, pricepointnum + 2))\n",
    "                       \n",
    "    for i in range(length):\n",
    "        tabletradedate = ''.join(table['交易日'][i].split('-'))\n",
    "        if tabletradedate != pricedata.columns[i] or tabletradedate != volumedata.columns[i]:\n",
    "            print(future + ' Bad Trade Date!')\n",
    "            print(table['交易日'][i].strip().strip('-') + ', ' + pricedata.columns[i] + ', ' + volumedata.columns[i])\n",
    "        tradedate = pricedata.columns[i]\n",
    "        pricelist = np.array(pricedata[tradedate].dropna())\n",
    "        volumelist = np.array(volumedata[tradedate].dropna())\n",
    "        if len(pricelist) != len(volumelist):\n",
    "            print('Bad Volume Length!')\n",
    "        \n",
    "        #将价格序列分成pricepointnum段\n",
    "        steplen = float(len(pricelist)) / float(pricepointnum)\n",
    "        checklist = []\n",
    "        for j in range(pricepointnum):\n",
    "            checklist.append(min(len(pricelist) - 1, int(round(steplen * (j + 1)))))\n",
    "        \n",
    "        pvsum = 0.0\n",
    "        vsum = 0.0\n",
    "        intradayprice = [table['昨收价'][i], table['开盘价'][i]]\n",
    "        for j in range(len(pricelist)):\n",
    "            #成交量这里加上1防止全是0的话会在求加权价的时候产生除零错误\n",
    "            pvsum += pricelist[j] * (volumelist[j] + 1.0)\n",
    "            vsum += (volumelist[j] + 1.0)\n",
    "            if j in checklist:\n",
    "                if vsum == 0:\n",
    "                    print('Bad 0!')\n",
    "                intradayprice.append(pvsum / vsum)\n",
    "                pvsum = 0.0\n",
    "                vsum = 0.0\n",
    "        intradayprice.append(table['收盘价'][i])\n",
    "        \n",
    "        for j in range(pricepointnum + 2):\n",
    "            pattern[i, j] = (intradayprice[j + 1] - intradayprice[j]) / intradayprice[j]\n",
    "    return pattern"
   ]
  },
  {
   "cell_type": "markdown",
   "metadata": {},
   "source": [
    "## 正则化聚类函数\n",
    "\n",
    "使用sklearn进行正则化。http://scikit-learn.org/stable/modules/generated/sklearn.preprocessing.QuantileTransformer.html#sklearn.preprocessing.QuantileTransformer\n",
    "然后调用sklearn中的k-means算法聚类\n",
    "\n",
    "> 参数\n",
    "> * `data`需要聚类的数据\n",
    "> * `num`聚类的类数\n",
    "\n",
    "> 返回\n",
    "> * `labels`每个数据点的类别标记，是从零开始的自然数。以列表形式返回，长度等于输入数据的条数。\n",
    "\n",
    "sklearn的k-means运用了Lioyd's算法。http://scikit-learn.org/stable/modules/generated/sklearn.cluster.KMeans.html\n",
    "\n",
    "> 时间复杂度\n",
    "> * 平均计算复杂度是`O(k n T)`，其中n是样本量，T是迭代次数。\n",
    "> * 计算复杂读在最坏的情况下为`O(n^(k+2/p))`，其中n是样本量，p是特征个数。(D. Arthur and S. Vassilvitskii, ‘How slow is the k-means method?’ SoCG2006）\n",
    "\n",
    "> 参数解释\n",
    "> * `n_clusters`要聚类的类的数量\n",
    "> * `n_init`总共尝试的次数（算法在有限次内给出最优解）\n",
    "> * `max_iter`最大迭代次数（如果不收敛的话）\n",
    "> * `tol`收敛条件。这里要涉及一个属性叫做`inertia_`是所有点到它的质心的距离之和。如果两次迭代的`inertia_`的差小于`tol`，则说明k-means算法已经收敛，这时算法停止。"
   ]
  },
  {
   "cell_type": "code",
   "execution_count": 17,
   "metadata": {},
   "outputs": [],
   "source": [
    "def normalise_cluster(data, num):\n",
    "    datanormal = copy.deepcopy(data)\n",
    "    scaler = preprocessing.QuantileTransformer(output_distribution='normal')\n",
    "    scaler = scaler.fit(datanormal)\n",
    "    datanormal = scaler.transform(datanormal)\n",
    "    model = cluster.KMeans(n_clusters=num, n_init = 10, max_iter = 300, tol = 0.00001).fit(datanormal)\n",
    "    labels  = model.predict(datanormal)\n",
    "    return labels"
   ]
  },
  {
   "cell_type": "markdown",
   "metadata": {},
   "source": [
    "## 离散的隐马尔可夫模型函数\n",
    "\n",
    "k-means函数之后得到了一个类别序列，我们将它作为观察值序列输入隐马尔可夫模型，得到隐状态的链\n",
    "\n",
    "> 参数\n",
    "> * `obseq`观察值序列\n",
    "> * `num`隐状态数量\n",
    "\n",
    "> 返回\n",
    "> * `state_sequence`使用维特比算法（Viterbi algorithm）计算的最大概率的隐状态序列\n",
    "> * `model`隐马尔可夫模型本身用于后续的计算\n",
    "\n",
    "hmmlearn的MultinomialHMM默认使用维特比算法进行解码。http://hmmlearn.readthedocs.io/en/latest/api.html#multinomialhmm\n",
    "\n",
    "> 参数解释\n",
    "> * `n_components`隐状态数量\n",
    "> * `n_iter`最大迭代执行次数\n",
    "> * `tol`收敛阈值。如果对数似然的增益低于此值，EM将停止。鲍姆-韦尔奇算法（Baum–Welch algorithm）就是寻找一组隐马尔可夫模型的参数，使得在给定参数构成的隐马尔可夫模型中，观察序列出现的概率最大。这一过程实际上就是在最大似然估计，对数似然就是这一概率的对数。当这一概率的增长已经非常小，低于某个阈值的时候，说明模型已经收敛，这时算法停止。"
   ]
  },
  {
   "cell_type": "code",
   "execution_count": 18,
   "metadata": {},
   "outputs": [],
   "source": [
    "def hmm_multinomial(obseq, num):\n",
    "    model = hmm.MultinomialHMM(n_components = num, n_iter=10, tol=0.001).fit(obseq)\n",
    "    if not model.monitor_.converged:\n",
    "        print(u'Not Converged!')\n",
    "    state_sequence = model.predict(obseq)\n",
    "    return state_sequence, model"
   ]
  },
  {
   "cell_type": "markdown",
   "metadata": {},
   "source": [
    "## 多折线图绘图\n",
    "\n",
    "> 参数\n",
    "> * `data`需要作图的数据（N，L），共N条线，每条线长度L个数据\n",
    "> * `plotlabels`标签（N），对应每一条线的名字\n",
    "> * `x_name`X轴名字\n",
    "> * `y_name`Y轴名字\n",
    "> * `title`标题\n",
    "\n",
    "> 作图\n",
    "> * 多折线图"
   ]
  },
  {
   "cell_type": "code",
   "execution_count": 19,
   "metadata": {},
   "outputs": [],
   "source": [
    "def multi_plot(data, plotlabels, x_name, y_name, title):\n",
    "    if not (len(data) == len(plotlabels)):\n",
    "        print(u'Bad Plot Length!')\n",
    "        return\n",
    "    fig, axs = plt.subplots(nrows=1, ncols=1, figsize = (16, 9))\n",
    "    for i in range(len(data)):\n",
    "        axs.plot(range(len(data[i].T)), data[i].T, label = plotlabels[i])\n",
    "    plt.legend()\n",
    "    axs.set_xlabel(x_name)\n",
    "    axs.set_ylabel(y_name)\n",
    "    axs.set_title(title)\n",
    "    plt.show()"
   ]
  },
  {
   "cell_type": "markdown",
   "metadata": {},
   "source": [
    "## 将隐状态对应到涨跌\n",
    "\n",
    "我们获得隐状态序列后，还需要对隐状态进行解释，这里我们将其与当日的涨跌对应起来。具体的做法是，分别假设在某个状态当日单独做多或者做空，分别计算净值并返回。\n",
    "\n",
    "> 参数\n",
    "> * `future`期货品种\n",
    "> * `price`从文件中取回的价格序列\n",
    "> * `state_sequence`隐状态序列\n",
    "> * `num`隐状态序列\n",
    "> * `showplot`是否显示图片\n",
    "\n",
    "> 返回\n",
    "> * `state_long`（N，L）的矩阵，N个隐状态，L个交易日，表示各个隐状态在L个交易日中单纯做多的净值表现\n",
    "> * `state_short`（N，L）的矩阵，N个隐状态，L个交易日，表示各个隐状态在L个交易日中单纯做空的净值表现\n",
    "\n",
    "> 绘图\n",
    "> * 对于每一个隐状态i，假设当某一日计算结果为隐状态i的时候，满仓做多这一期货品种，得到净值累计曲线。\n",
    "> * 对于每一个隐状态i，假设当某一日计算结果为隐状态i的时候，满仓做空这一期货品种，得到净值累计曲线。"
   ]
  },
  {
   "cell_type": "code",
   "execution_count": 20,
   "metadata": {},
   "outputs": [],
   "source": [
    "def state_to_value(future, price, state_sequence, num):\n",
    "    state_long = np.zeros((num, len(state_sequence) + 1))\n",
    "    state_short = np.zeros((num, len(state_sequence) + 1))\n",
    "    #开始的净值是1.0\n",
    "    for i in range(num):\n",
    "        state_long[i, 0] = 1.0\n",
    "        state_short[i, 0] = 1.0\n",
    "    \n",
    "    for i in range(len(state_sequence)):\n",
    "        for j in range(num):\n",
    "            state_long[j, i + 1] = state_long[j, i]\n",
    "            state_short[j, i + 1] = state_short[j, i]\n",
    "            if state_sequence[i] == j:\n",
    "                state_long[j, i + 1] *= (1.0 + price[i])\n",
    "                state_short[j, i + 1] *= (1.0 - price[i])\n",
    "    return state_long, state_short"
   ]
  },
  {
   "cell_type": "markdown",
   "metadata": {},
   "source": [
    "## 找出夏普最大的隐状态\n",
    "\n",
    "分别对隐状态的净值表现计算夏普率，返回夏普率最大的隐状态。\n",
    "\n",
    "计算夏普比率的时候，无风险年化收益率取0.04，对标十年期国债利率，每年交易日我们认为是252。\n",
    "\n",
    "> 参数\n",
    "> * `state_value`（N，L）N个隐状态在L个交易日中的净值\n",
    "\n",
    "> 返回\n",
    "> * `best_state`夏普最高的那个隐状态"
   ]
  },
  {
   "cell_type": "code",
   "execution_count": 21,
   "metadata": {},
   "outputs": [],
   "source": [
    "def max_sharpe_state(state_value):\n",
    "    best_state = 0\n",
    "    max_sharpe = 0\n",
    "    for i in range(len(state_value)):\n",
    "        values = copy.deepcopy(state_value[i].T)\n",
    "        returns = []\n",
    "        for j in range(1, len(values)):\n",
    "            returns.append((values[j] - values[j - 1]) / values[j - 1] - 0.04 / 252)    \n",
    "        #计算年化夏普，无风险年化收益率取0.04，对标十年期国债利率，每年交易日认为是252个\n",
    "        annualised_sharpe = np.sqrt(252) * np.mean(returns) / np.std(returns)\n",
    "        if annualised_sharpe > max_sharpe:\n",
    "            best_state = i\n",
    "            max_sharpe = annualised_sharpe\n",
    "    return best_state"
   ]
  },
  {
   "cell_type": "markdown",
   "metadata": {},
   "source": [
    "## 净值序列转化为交易信号\n",
    "\n",
    "我们从各个隐状态分别做多和做空所得到的净值表格中，计算出最适合做多和做空的隐状态，我们命名为best_long和best_short，当预测下一个隐状态为best_long时，我们返回做多信号（+1），为best_short时，我们返回做空信号（-1）。\n",
    "\n",
    "> 参数\n",
    "> * `state_long`隐状态做多操作净值（N，L），N个隐状态，L个交易日\n",
    "> * `state_short`隐状态做空操作净值（N，L），N个隐状态，L个交易日\n",
    "> * `hmm_model`隐马尔可夫模型本身\n",
    "> * `laststate`隐状态序列的最后一个状态\n",
    "\n",
    "> 返回\n",
    "> * `signal`下一个交易日的方向判断。+1做多，-1做空，0空仓。"
   ]
  },
  {
   "cell_type": "code",
   "execution_count": 22,
   "metadata": {},
   "outputs": [],
   "source": [
    "def value_to_trade(state_long, state_short, hmm_model, laststate):\n",
    "    best_long = max_sharpe_state(state_long)\n",
    "    best_short = max_sharpe_state(state_short)\n",
    "            \n",
    "    signal = 0\n",
    "    next_prob = hmm_model.startprob_ * hmm_model.transmat_[laststate]\n",
    "    next_prob = next_prob.tolist()\n",
    "    next_state = next_prob.index(max(next_prob))\n",
    "    if next_state == best_long:\n",
    "        signal = 1\n",
    "    elif next_state == best_short:\n",
    "        signal = -1\n",
    "        \n",
    "    if best_long == best_short:\n",
    "        signal = 0\n",
    "        print('Bad State!')\n",
    "    return signal"
   ]
  },
  {
   "cell_type": "markdown",
   "metadata": {},
   "source": [
    "## 训练模型并交易\n",
    "\n",
    "单纯的训练，并得出对下一个交易日的交易方向判断。\n",
    "\n",
    "在这个函数中，我们先将特征集聚类，然后作为观察值序列输入隐马尔可夫模型得到隐状态序列。为了解释隐状态的意义，我们将每个隐状态做单独的净值计算，得到的结果将帮助我们理解哪个隐状态预示着做多、做多、或者什么都不做。得到每个隐状态的净值表现后，我们找到表现最好的一个状态，将其作为交易状态。如果隐状态序列的最后一个状态为交易状态，则返回其相应的对下一交易日的交易方向判断（+1做多，-1做空），否则返回0（空仓）。\n",
    "\n",
    "对于龙虎榜数据和日内价格模式数据计算得到交易信号，乘以各自的权重再输出为总的交易信号。\n",
    "\n",
    "> 参数\n",
    "> * `future`期货品种\n",
    "> * `data_train`特征数据训练集\n",
    "> * `price_train`价格集\n",
    "> * `pattern_train`价格模式训练集\n",
    "> * `label_num`聚类的组数\n",
    "> * `hidden_state_num`隐状态数量\n",
    "> * `rank_weight`期货龙虎榜计算得来的交易信号的权重\n",
    "> * `pattern_weight`日内价格模式计算得来的交易信号的权重\n",
    "> * `showplot`是否显示图片\n",
    "\n",
    "> 返回\n",
    "> * `signal`下一个交易日的方向判断。+1做多，-1做空，0空仓。"
   ]
  },
  {
   "cell_type": "code",
   "execution_count": 23,
   "metadata": {},
   "outputs": [],
   "source": [
    "def train_to_trade(future, rank_train, price_train, pattern_train, label_num, hidden_state_num, rank_weight, pattern_weight, showplot):\n",
    "    rank_labels = normalise_cluster(rank_train, label_num).reshape(-1, 1)\n",
    "    state_sequence, hmm_model = hmm_multinomial(rank_labels, hidden_state_num)\n",
    "    state_long, state_short = state_to_value(future, price_train, state_sequence, hidden_state_num)\n",
    "    if showplot:\n",
    "        multi_plot(state_long, ['State ' + str(i) for i in range(hidden_state_num)], u'Trading Day', u'Return', future + u' Long Rank Signal')\n",
    "        multi_plot(state_short, ['State ' + str(i) for i in range(hidden_state_num)], u'Trading Day', u'Return', future + u' Short Rank Signal')\n",
    "    rank_signal = value_to_trade(state_long, state_short, hmm_model, state_sequence[-1])\n",
    "    \n",
    "    pattern_labels = normalise_cluster(pattern_train, label_num).reshape(-1, 1)\n",
    "    state_sequence, hmm_model = hmm_multinomial(pattern_labels, hidden_state_num)\n",
    "    state_long, state_short = state_to_value(future, price_train, state_sequence, hidden_state_num)\n",
    "    if showplot:\n",
    "        multi_plot(state_long, ['State ' + str(i) for i in range(hidden_state_num)], u'Trading Day', u'Return', future + u' Long Pattern Signal')\n",
    "        multi_plot(state_short, ['State ' + str(i) for i in range(hidden_state_num)], u'Trading Day', u'Return', future + u' Short Pattern Signal')\n",
    "    pattern_signal = value_to_trade(state_long, state_short, hmm_model, state_sequence[-1])\n",
    "    \n",
    "    #signal = min(1.0, rank_signal * rank_weight + pattern_signal * pattern_weight)\n",
    "    signal = pattern_signal * pattern_weight\n",
    "    return signal"
   ]
  },
  {
   "cell_type": "markdown",
   "metadata": {},
   "source": [
    "## 预测\n",
    "\n",
    "对每一个期货品种进行实验并显示结果。\n",
    "\n",
    "> 参数\n",
    "> * `FutureList`需要实验的品种列表，总共有'ag', 'au', 'cu', 'i', 'IF','j', 'jm', 'm', 'rb', 'ru'可以选择，其中i和jm的数据是从2014年开始的，共1037条记录，其余的是从2013年开始的，共1275条记录。\n",
    "> * `PricePointNum`日内价格取多少个观测点（不包括开盘价和收盘价）至少为1\n",
    "> * `LabelNum`聚类的组数\n",
    "> * `HiddenStateNum`隐状态数量\n",
    "> * `Columns`用于聚类的特征，可取的特征有：交易日,合约,开盘价,收盘价,日涨幅,最高价,最低价,日振幅,合约成交量,合约持仓量,多头持仓,多头增仓,多头增幅,多头比重,空头持仓,空头增仓,空头增幅,空头比重,成交量现量,成交量变化,成交量增幅,成交量比重。\n",
    "> * `TestSize`测试集的长度。此处定义为长度而非比例主要是为了后续品种之间的性能对比，而且我们已经知道记录的总长度，通过测试集长度也可以确定其比例。\n",
    "> * `RankWeight`期货龙虎榜计算得来的交易信号的权重\n",
    "> * `PatternWeight`日内价格模式计算得来的交易信号的权重"
   ]
  },
  {
   "cell_type": "code",
   "execution_count": 24,
   "metadata": {
    "scrolled": false
   },
   "outputs": [
    {
     "name": "stdout",
     "output_type": "stream",
     "text": [
      "j 0.6\n",
      "j 0.0\n",
      "j 0.0\n",
      "j 0.0\n",
      "m 0.0\n",
      "m 0.0\n",
      "m 0.6\n",
      "m 0.4\n",
      "ru 0.0\n",
      "ru 0.0\n",
      "ru 0.2\n",
      "ru 0.0\n"
     ]
    }
   ],
   "source": [
    "for future in FutureList:\n",
    "    for [PricePointNum, LabelNum, HiddenStateNum, RankWeight, PatternWeight] in ParDic[future]:\n",
    "        rank_train, price_train = load_rank_price_data(future, Columns)\n",
    "        pattern_train = load_price_pattern_data(future, PricePointNum)\n",
    "        s = train_to_trade(future, rank_train, price_train, pattern_train, LabelNum, HiddenStateNum, RankWeight, PatternWeight, False)\n",
    "        print future, s"
   ]
  }
 ],
 "metadata": {
  "kernelspec": {
   "display_name": "Python 2",
   "language": "python",
   "name": "python2"
  },
  "language_info": {
   "codemirror_mode": {
    "name": "ipython",
    "version": 2
   },
   "file_extension": ".py",
   "mimetype": "text/x-python",
   "name": "python",
   "nbconvert_exporter": "python",
   "pygments_lexer": "ipython2",
   "version": "2.7.14"
  }
 },
 "nbformat": 4,
 "nbformat_minor": 2
}
