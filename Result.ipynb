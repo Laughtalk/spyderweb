{
 "cells": [
  {
   "cell_type": "code",
   "execution_count": 121,
   "metadata": {},
   "outputs": [],
   "source": [
    "import pandas as pd\n",
    "import numpy as np\n",
    "import os\n",
    "import re\n",
    "import math\n",
    "\n",
    "FutureList = ['ag', 'au', 'cu', 'IF','j', 'm', 'rb', 'ru']\n",
    "FilePath = u\"rank_price/\"\n",
    "FileName = 'rank_price.xlsx'\n",
    "Columns = ['Future', \n",
    "           'PricePointNum', 'LabelNum', 'HiddenStateNum', 'RankWeight', 'PatternWeight', \n",
    "           'Sharpe', 'AnnualReturn', 'MaxDrawdown', 'WinRate']"
   ]
  },
  {
   "cell_type": "code",
   "execution_count": 122,
   "metadata": {},
   "outputs": [],
   "source": [
    "def calculate(values):\n",
    "    returns = []\n",
    "    maxnow = values[0]\n",
    "    maxdrawdown = 0\n",
    "    tot = 0\n",
    "    win = 0\n",
    "    for j in range(1, len(values)):\n",
    "        maxnow = max(maxnow, values[j])\n",
    "        maxdrawdown = max(maxdrawdown, (maxnow - values[j]) / maxnow)\n",
    "        if not (values[j] - values[j - 1]) == 0:\n",
    "            tot += 1\n",
    "        if values[j] - values[j - 1] > 0:\n",
    "            win += 1\n",
    "        returns.append((values[j] - values[j - 1]) / values[j - 1] - 0.04 / 252)    \n",
    "    #计算年化夏普，无风险年化收益率取0.04，对标十年期国债利率，每年交易日认为是252个\n",
    "    sharpe = np.sqrt(252) * np.mean(returns) / np.std(returns)\n",
    "    annualreturn = math.sqrt(values[-1] / values[0]) - 1\n",
    "    return sharpe, annualreturn, maxdrawdown, float(win) / float(tot)"
   ]
  },
  {
   "cell_type": "code",
   "execution_count": 123,
   "metadata": {},
   "outputs": [],
   "source": [
    "def result(fut, path):\n",
    "    ret = pd.DataFrame(columns = Columns)\n",
    "    for rec in os.walk(path):\n",
    "        path_now = rec[0]\n",
    "        filelist = rec[2]\n",
    "        for filename in filelist:\n",
    "            path_name = path_now + '/' + filename\n",
    "            data = pd.read_csv(path_name, header = 0, index_col = 0).T\n",
    "            #print data\n",
    "            #print data.columns\n",
    "            if fut in data.columns:\n",
    "                sharpe, annual_return, max_drawdown, win_rate = calculate(data[fut])\n",
    "                #print [sharpe, annual_return, max_drawdown, win_rate]\n",
    "                sl = filename.split('_')\n",
    "                price_point_num = int(re.findall(r'-?\\d+\\.?\\d*e?-?\\d*?', sl[2])[0])\n",
    "                label_num = int(re.findall(r'-?\\d+\\.?\\d*e?-?\\d*?', sl[3])[0])\n",
    "                hidden_state_num = int(re.findall(r'-?\\d+\\.?\\d*e?-?\\d*?', sl[4])[0])\n",
    "                rank_weight = float(re.findall(r'-?\\d+\\.?\\d*e?-?\\d*?', sl[6])[0])\n",
    "                pattern_weight = float(re.findall(r'-?\\d+\\.?\\d*e?-?\\d*?', sl[7])[0])\n",
    "                \n",
    "                line = pd.DataFrame(columns = Columns)\n",
    "                line['Future'] = (pd.Series([fut]))\n",
    "                line['PricePointNum'] = (pd.Series([price_point_num]))\n",
    "                line['LabelNum'] = (pd.Series([label_num]))\n",
    "                line['HiddenStateNum'] = (pd.Series([hidden_state_num]))\n",
    "                line['RankWeight'] = (pd.Series([rank_weight]))\n",
    "                line['PatternWeight'] = (pd.Series([pattern_weight]))\n",
    "                line['Sharpe'] = (pd.Series([sharpe]))\n",
    "                line['AnnualReturn'] = (pd.Series([annual_return]))\n",
    "                line['MaxDrawdown'] = (pd.Series([max_drawdown]))\n",
    "                line['WinRate'] = (pd.Series([win_rate]))\n",
    "                ret = ret.append(line, ignore_index=True)\n",
    "                \n",
    "    return ret"
   ]
  },
  {
   "cell_type": "code",
   "execution_count": 124,
   "metadata": {},
   "outputs": [],
   "source": [
    "writer = pd.ExcelWriter(FileName)\n",
    "All = pd.DataFrame(columns = Columns)\n",
    "for future in FutureList:\n",
    "    res = result(future, FilePath)\n",
    "    res.to_excel(writer, future, index = False)\n",
    "    All = All.append(res)\n",
    "All.to_excel(writer, 'All', index = False)\n",
    "writer.save()"
   ]
  }
 ],
 "metadata": {
  "kernelspec": {
   "display_name": "Python 2",
   "language": "python",
   "name": "python2"
  },
  "language_info": {
   "codemirror_mode": {
    "name": "ipython",
    "version": 2
   },
   "file_extension": ".py",
   "mimetype": "text/x-python",
   "name": "python",
   "nbconvert_exporter": "python",
   "pygments_lexer": "ipython2",
   "version": "2.7.14"
  }
 },
 "nbformat": 4,
 "nbformat_minor": 2
}
